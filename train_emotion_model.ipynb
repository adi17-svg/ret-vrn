{
 "cells": [
  {
   "cell_type": "code",
   "execution_count": 1,
   "metadata": {},
   "outputs": [
    {
     "name": "stdout",
     "output_type": "stream",
     "text": [
      "Requirement already satisfied: librosa in c:\\users\\hp\\appdata\\local\\programs\\python\\python311\\lib\\site-packages (0.11.0)\n",
      "Requirement already satisfied: pandas in c:\\users\\hp\\appdata\\local\\programs\\python\\python311\\lib\\site-packages (2.2.3)\n",
      "Requirement already satisfied: numpy in c:\\users\\hp\\appdata\\local\\programs\\python\\python311\\lib\\site-packages (1.24.3)\n",
      "Requirement already satisfied: scikit-learn in c:\\users\\hp\\appdata\\local\\programs\\python\\python311\\lib\\site-packages (1.6.1)\n",
      "Requirement already satisfied: matplotlib in c:\\users\\hp\\appdata\\local\\programs\\python\\python311\\lib\\site-packages (3.7.1)\n",
      "Requirement already satisfied: tqdm in c:\\users\\hp\\appdata\\local\\programs\\python\\python311\\lib\\site-packages (4.67.1)\n",
      "Requirement already satisfied: soundfile in c:\\users\\hp\\appdata\\local\\programs\\python\\python311\\lib\\site-packages (0.13.1)\n",
      "Requirement already satisfied: audioread>=2.1.9 in c:\\users\\hp\\appdata\\local\\programs\\python\\python311\\lib\\site-packages (from librosa) (3.0.1)\n",
      "Requirement already satisfied: numba>=0.51.0 in c:\\users\\hp\\appdata\\local\\programs\\python\\python311\\lib\\site-packages (from librosa) (0.61.2)\n",
      "Requirement already satisfied: scipy>=1.6.0 in c:\\users\\hp\\appdata\\local\\programs\\python\\python311\\lib\\site-packages (from librosa) (1.15.3)\n",
      "Requirement already satisfied: joblib>=1.0 in c:\\users\\hp\\appdata\\local\\programs\\python\\python311\\lib\\site-packages (from librosa) (1.5.1)\n",
      "Requirement already satisfied: decorator>=4.3.0 in c:\\users\\hp\\appdata\\local\\programs\\python\\python311\\lib\\site-packages (from librosa) (5.2.1)\n",
      "Requirement already satisfied: pooch>=1.1 in c:\\users\\hp\\appdata\\local\\programs\\python\\python311\\lib\\site-packages (from librosa) (1.8.2)\n",
      "Requirement already satisfied: soxr>=0.3.2 in c:\\users\\hp\\appdata\\local\\programs\\python\\python311\\lib\\site-packages (from librosa) (0.5.0.post1)\n",
      "Requirement already satisfied: typing_extensions>=4.1.1 in c:\\users\\hp\\appdata\\local\\programs\\python\\python311\\lib\\site-packages (from librosa) (4.13.2)\n",
      "Requirement already satisfied: lazy_loader>=0.1 in c:\\users\\hp\\appdata\\local\\programs\\python\\python311\\lib\\site-packages (from librosa) (0.4)\n",
      "Requirement already satisfied: msgpack>=1.0 in c:\\users\\hp\\appdata\\local\\programs\\python\\python311\\lib\\site-packages (from librosa) (1.1.0)\n",
      "Requirement already satisfied: python-dateutil>=2.8.2 in c:\\users\\hp\\appdata\\local\\programs\\python\\python311\\lib\\site-packages (from pandas) (2.9.0.post0)\n",
      "Requirement already satisfied: pytz>=2020.1 in c:\\users\\hp\\appdata\\local\\programs\\python\\python311\\lib\\site-packages (from pandas) (2025.2)\n",
      "Requirement already satisfied: tzdata>=2022.7 in c:\\users\\hp\\appdata\\local\\programs\\python\\python311\\lib\\site-packages (from pandas) (2025.2)\n",
      "Requirement already satisfied: threadpoolctl>=3.1.0 in c:\\users\\hp\\appdata\\local\\programs\\python\\python311\\lib\\site-packages (from scikit-learn) (3.6.0)\n",
      "Requirement already satisfied: contourpy>=1.0.1 in c:\\users\\hp\\appdata\\local\\programs\\python\\python311\\lib\\site-packages (from matplotlib) (1.3.2)\n",
      "Requirement already satisfied: cycler>=0.10 in c:\\users\\hp\\appdata\\local\\programs\\python\\python311\\lib\\site-packages (from matplotlib) (0.12.1)\n",
      "Requirement already satisfied: fonttools>=4.22.0 in c:\\users\\hp\\appdata\\local\\programs\\python\\python311\\lib\\site-packages (from matplotlib) (4.58.1)\n",
      "Requirement already satisfied: kiwisolver>=1.0.1 in c:\\users\\hp\\appdata\\local\\programs\\python\\python311\\lib\\site-packages (from matplotlib) (1.4.8)\n",
      "Requirement already satisfied: packaging>=20.0 in c:\\users\\hp\\appdata\\local\\programs\\python\\python311\\lib\\site-packages (from matplotlib) (25.0)\n",
      "Requirement already satisfied: pillow>=6.2.0 in c:\\users\\hp\\appdata\\local\\programs\\python\\python311\\lib\\site-packages (from matplotlib) (11.2.1)\n",
      "Requirement already satisfied: pyparsing>=2.3.1 in c:\\users\\hp\\appdata\\local\\programs\\python\\python311\\lib\\site-packages (from matplotlib) (3.2.3)\n",
      "Requirement already satisfied: colorama in c:\\users\\hp\\appdata\\local\\programs\\python\\python311\\lib\\site-packages (from tqdm) (0.4.6)\n",
      "Requirement already satisfied: cffi>=1.0 in c:\\users\\hp\\appdata\\local\\programs\\python\\python311\\lib\\site-packages (from soundfile) (1.17.1)\n",
      "Requirement already satisfied: pycparser in c:\\users\\hp\\appdata\\local\\programs\\python\\python311\\lib\\site-packages (from cffi>=1.0->soundfile) (2.22)\n",
      "Requirement already satisfied: llvmlite<0.45,>=0.44.0dev0 in c:\\users\\hp\\appdata\\local\\programs\\python\\python311\\lib\\site-packages (from numba>=0.51.0->librosa) (0.44.0)\n",
      "Requirement already satisfied: platformdirs>=2.5.0 in c:\\users\\hp\\appdata\\local\\programs\\python\\python311\\lib\\site-packages (from pooch>=1.1->librosa) (4.3.8)\n",
      "Requirement already satisfied: requests>=2.19.0 in c:\\users\\hp\\appdata\\local\\programs\\python\\python311\\lib\\site-packages (from pooch>=1.1->librosa) (2.32.3)\n",
      "Requirement already satisfied: six>=1.5 in c:\\users\\hp\\appdata\\local\\programs\\python\\python311\\lib\\site-packages (from python-dateutil>=2.8.2->pandas) (1.17.0)\n",
      "Requirement already satisfied: charset-normalizer<4,>=2 in c:\\users\\hp\\appdata\\local\\programs\\python\\python311\\lib\\site-packages (from requests>=2.19.0->pooch>=1.1->librosa) (3.4.2)\n",
      "Requirement already satisfied: idna<4,>=2.5 in c:\\users\\hp\\appdata\\local\\programs\\python\\python311\\lib\\site-packages (from requests>=2.19.0->pooch>=1.1->librosa) (3.10)\n",
      "Requirement already satisfied: urllib3<3,>=1.21.1 in c:\\users\\hp\\appdata\\local\\programs\\python\\python311\\lib\\site-packages (from requests>=2.19.0->pooch>=1.1->librosa) (2.4.0)\n",
      "Requirement already satisfied: certifi>=2017.4.17 in c:\\users\\hp\\appdata\\local\\programs\\python\\python311\\lib\\site-packages (from requests>=2.19.0->pooch>=1.1->librosa) (2025.4.26)\n",
      "Note: you may need to restart the kernel to use updated packages.\n"
     ]
    }
   ],
   "source": [
    "pip install librosa pandas numpy scikit-learn matplotlib tqdm soundfile"
   ]
  },
  {
   "cell_type": "code",
   "execution_count": 15,
   "metadata": {},
   "outputs": [],
   "source": [
    "import os\n",
    "import librosa\n",
    "import numpy as np\n",
    "import pandas as pd\n",
    "from tqdm import tqdm\n",
    "from sklearn.model_selection import train_test_split\n",
    "import matplotlib.pyplot as plt\n",
    "\n",
    "BASE_DIR = \"./datasets\"\n",
    "TESS_DIR = os.path.join(BASE_DIR, \"tess\")\n",
    "CREMA_DIR = os.path.join(BASE_DIR, \"crema-d\")\n",
    "RAVDESS_DIR = os.path.join(BASE_DIR, \"ravdess-data\")\n",
    "\n",
    "SAMPLE_RATE = 22050\n",
    "\n"
   ]
  },
  {
   "cell_type": "code",
   "execution_count": 16,
   "metadata": {},
   "outputs": [],
   "source": [
    "# For TESS\n",
    "def load_tess():\n",
    "    data = []\n",
    "    for folder in os.listdir(TESS_DIR):\n",
    "        emotion = folder.split(\"_\")[-1].lower()\n",
    "        folder_path = os.path.join(TESS_DIR, folder)\n",
    "        for file in os.listdir(folder_path):\n",
    "            if file.endswith(\".wav\"):\n",
    "                path = os.path.join(folder_path, file)\n",
    "                data.append((path, emotion))\n",
    "    return data\n",
    "\n",
    "# For CREMA-D\n",
    "def load_crema_d():\n",
    "    emotion_map = {\n",
    "        \"ANG\": \"angry\", \"DIS\": \"disgust\", \"FEA\": \"fearful\",\n",
    "        \"HAP\": \"happy\", \"NEU\": \"neutral\", \"SAD\": \"sad\"\n",
    "    }\n",
    "    data = []\n",
    "    for file in os.listdir(CREMA_DIR):\n",
    "        if file.endswith(\".wav\"):\n",
    "            parts = file.split(\"_\")\n",
    "            emotion = emotion_map.get(parts[2], None)\n",
    "            if emotion:\n",
    "                path = os.path.join(CREMA_DIR, file)\n",
    "                data.append((path, emotion))\n",
    "    return data\n",
    "\n",
    "# For RAVDESS\n",
    "def load_ravdess():\n",
    "    emotion_map = {\n",
    "        \"01\": \"neutral\", \"02\": \"calm\", \"03\": \"happy\",\n",
    "        \"04\": \"sad\", \"05\": \"angry\", \"06\": \"fearful\",\n",
    "        \"07\": \"disgust\", \"08\": \"surprised\"\n",
    "    }\n",
    "    data = []\n",
    "    for root, _, files in os.walk(RAVDESS_DIR):\n",
    "        for file in files:\n",
    "            if file.endswith(\".wav\"):\n",
    "                parts = file.split(\"-\")\n",
    "                emotion = emotion_map.get(parts[2], None)\n",
    "                if emotion:\n",
    "                    path = os.path.join(root, file)\n",
    "                    data.append((path, emotion))\n",
    "    return data\n"
   ]
  },
  {
   "cell_type": "code",
   "execution_count": 17,
   "metadata": {},
   "outputs": [
    {
     "name": "stdout",
     "output_type": "stream",
     "text": [
      "✅ Total samples loaded: 13122\n",
      "('./datasets\\\\crema-d\\\\1009_ITS_SAD_XX.wav', 'sad')\n",
      "('./datasets\\\\ravdess-data\\\\Actor_03\\\\03-01-06-02-02-01-03.wav', 'fearful')\n",
      "('./datasets\\\\crema-d\\\\1016_ITS_SAD_XX.wav', 'sad')\n",
      "('./datasets\\\\crema-d\\\\1048_ITS_DIS_XX.wav', 'disgust')\n",
      "('./datasets\\\\crema-d\\\\1043_IEO_ANG_LO.wav', 'angry')\n"
     ]
    }
   ],
   "source": [
    "# Load and merge datasets\n",
    "tess_data = load_tess()\n",
    "crema_data = load_crema_d()\n",
    "ravdess_data = load_ravdess()\n",
    "\n",
    "all_data = tess_data + crema_data + ravdess_data\n",
    "\n",
    "print(f\"✅ Total samples loaded: {len(all_data)}\")\n",
    "\n",
    "# Show few examples\n",
    "import random\n",
    "random.shuffle(all_data)\n",
    "for i in range(5):\n",
    "    print(all_data[i])\n"
   ]
  },
  {
   "cell_type": "code",
   "execution_count": 18,
   "metadata": {},
   "outputs": [],
   "source": [
    "def extract_features(file_path, sample_rate=22050):\n",
    "    try:\n",
    "        audio, _ = librosa.load(file_path, sr=sample_rate, res_type=\"kaiser_fast\")\n",
    "        mfccs = librosa.feature.mfcc(y=audio, sr=sample_rate, n_mfcc=40)\n",
    "        mfccs_scaled = np.mean(mfccs.T, axis=0)\n",
    "        return mfccs_scaled\n",
    "    except Exception as e:\n",
    "        print(f\"Error loading {file_path}: {e}\")\n",
    "        return None\n"
   ]
  },
  {
   "cell_type": "code",
   "execution_count": 19,
   "metadata": {},
   "outputs": [
    {
     "name": "stderr",
     "output_type": "stream",
     "text": [
      "100%|██████████| 13122/13122 [15:33<00:00, 14.05it/s]"
     ]
    },
    {
     "name": "stdout",
     "output_type": "stream",
     "text": [
      "✅ Extracted features from 13122 files.\n"
     ]
    },
    {
     "name": "stderr",
     "output_type": "stream",
     "text": [
      "\n"
     ]
    }
   ],
   "source": [
    "features = []\n",
    "labels = []\n",
    "\n",
    "for path, label in tqdm(all_data):\n",
    "    mfcc = extract_features(path)\n",
    "    if mfcc is not None:\n",
    "        features.append(mfcc)\n",
    "        labels.append(label)\n",
    "\n",
    "print(f\"✅ Extracted features from {len(features)} files.\")\n"
   ]
  },
  {
   "cell_type": "code",
   "execution_count": 20,
   "metadata": {},
   "outputs": [
    {
     "name": "stdout",
     "output_type": "stream",
     "text": [
      "✅ Saved features to features.csv\n"
     ]
    },
    {
     "data": {
      "text/html": [
       "<div>\n",
       "<style scoped>\n",
       "    .dataframe tbody tr th:only-of-type {\n",
       "        vertical-align: middle;\n",
       "    }\n",
       "\n",
       "    .dataframe tbody tr th {\n",
       "        vertical-align: top;\n",
       "    }\n",
       "\n",
       "    .dataframe thead th {\n",
       "        text-align: right;\n",
       "    }\n",
       "</style>\n",
       "<table border=\"1\" class=\"dataframe\">\n",
       "  <thead>\n",
       "    <tr style=\"text-align: right;\">\n",
       "      <th></th>\n",
       "      <th>0</th>\n",
       "      <th>1</th>\n",
       "      <th>2</th>\n",
       "      <th>3</th>\n",
       "      <th>4</th>\n",
       "      <th>5</th>\n",
       "      <th>6</th>\n",
       "      <th>7</th>\n",
       "      <th>8</th>\n",
       "      <th>9</th>\n",
       "      <th>...</th>\n",
       "      <th>31</th>\n",
       "      <th>32</th>\n",
       "      <th>33</th>\n",
       "      <th>34</th>\n",
       "      <th>35</th>\n",
       "      <th>36</th>\n",
       "      <th>37</th>\n",
       "      <th>38</th>\n",
       "      <th>39</th>\n",
       "      <th>label</th>\n",
       "    </tr>\n",
       "  </thead>\n",
       "  <tbody>\n",
       "    <tr>\n",
       "      <th>0</th>\n",
       "      <td>-456.575043</td>\n",
       "      <td>136.527435</td>\n",
       "      <td>2.376009</td>\n",
       "      <td>77.083122</td>\n",
       "      <td>-14.112505</td>\n",
       "      <td>29.339159</td>\n",
       "      <td>-16.671497</td>\n",
       "      <td>9.267215</td>\n",
       "      <td>-1.253794</td>\n",
       "      <td>-2.970204</td>\n",
       "      <td>...</td>\n",
       "      <td>-0.711211</td>\n",
       "      <td>3.937225</td>\n",
       "      <td>0.964934</td>\n",
       "      <td>1.566782</td>\n",
       "      <td>5.738392</td>\n",
       "      <td>2.600578</td>\n",
       "      <td>4.867594</td>\n",
       "      <td>1.833079</td>\n",
       "      <td>2.628369</td>\n",
       "      <td>sad</td>\n",
       "    </tr>\n",
       "    <tr>\n",
       "      <th>1</th>\n",
       "      <td>-394.742401</td>\n",
       "      <td>55.541351</td>\n",
       "      <td>-14.053243</td>\n",
       "      <td>13.811595</td>\n",
       "      <td>-3.965402</td>\n",
       "      <td>11.300798</td>\n",
       "      <td>-15.225402</td>\n",
       "      <td>-10.086811</td>\n",
       "      <td>-14.587361</td>\n",
       "      <td>-7.588269</td>\n",
       "      <td>...</td>\n",
       "      <td>7.441703</td>\n",
       "      <td>2.829896</td>\n",
       "      <td>4.759306</td>\n",
       "      <td>4.116480</td>\n",
       "      <td>5.901830</td>\n",
       "      <td>4.481123</td>\n",
       "      <td>0.525577</td>\n",
       "      <td>1.241355</td>\n",
       "      <td>2.621771</td>\n",
       "      <td>fearful</td>\n",
       "    </tr>\n",
       "    <tr>\n",
       "      <th>2</th>\n",
       "      <td>-426.375854</td>\n",
       "      <td>128.391068</td>\n",
       "      <td>12.472813</td>\n",
       "      <td>63.383026</td>\n",
       "      <td>-3.735512</td>\n",
       "      <td>26.996208</td>\n",
       "      <td>-11.805341</td>\n",
       "      <td>4.912915</td>\n",
       "      <td>-2.963334</td>\n",
       "      <td>-4.163063</td>\n",
       "      <td>...</td>\n",
       "      <td>-0.200079</td>\n",
       "      <td>2.048320</td>\n",
       "      <td>0.998026</td>\n",
       "      <td>-0.326989</td>\n",
       "      <td>4.049694</td>\n",
       "      <td>1.339910</td>\n",
       "      <td>2.259127</td>\n",
       "      <td>0.366075</td>\n",
       "      <td>0.656739</td>\n",
       "      <td>sad</td>\n",
       "    </tr>\n",
       "    <tr>\n",
       "      <th>3</th>\n",
       "      <td>-430.908691</td>\n",
       "      <td>134.530640</td>\n",
       "      <td>14.693838</td>\n",
       "      <td>59.866104</td>\n",
       "      <td>-11.650968</td>\n",
       "      <td>23.415775</td>\n",
       "      <td>-10.857422</td>\n",
       "      <td>1.775726</td>\n",
       "      <td>-1.164114</td>\n",
       "      <td>-4.168240</td>\n",
       "      <td>...</td>\n",
       "      <td>0.391836</td>\n",
       "      <td>0.689333</td>\n",
       "      <td>0.742341</td>\n",
       "      <td>-0.856530</td>\n",
       "      <td>1.504890</td>\n",
       "      <td>-0.419310</td>\n",
       "      <td>3.772069</td>\n",
       "      <td>3.194642</td>\n",
       "      <td>4.069006</td>\n",
       "      <td>disgust</td>\n",
       "    </tr>\n",
       "    <tr>\n",
       "      <th>4</th>\n",
       "      <td>-417.087708</td>\n",
       "      <td>145.348679</td>\n",
       "      <td>7.123462</td>\n",
       "      <td>50.162643</td>\n",
       "      <td>-17.542011</td>\n",
       "      <td>22.157343</td>\n",
       "      <td>-4.430702</td>\n",
       "      <td>-0.816537</td>\n",
       "      <td>-7.286849</td>\n",
       "      <td>-0.264768</td>\n",
       "      <td>...</td>\n",
       "      <td>3.198484</td>\n",
       "      <td>2.261936</td>\n",
       "      <td>1.898040</td>\n",
       "      <td>-1.779070</td>\n",
       "      <td>0.567067</td>\n",
       "      <td>-2.546989</td>\n",
       "      <td>1.743609</td>\n",
       "      <td>-0.963485</td>\n",
       "      <td>-0.419872</td>\n",
       "      <td>angry</td>\n",
       "    </tr>\n",
       "  </tbody>\n",
       "</table>\n",
       "<p>5 rows × 41 columns</p>\n",
       "</div>"
      ],
      "text/plain": [
       "            0           1          2          3          4          5  \\\n",
       "0 -456.575043  136.527435   2.376009  77.083122 -14.112505  29.339159   \n",
       "1 -394.742401   55.541351 -14.053243  13.811595  -3.965402  11.300798   \n",
       "2 -426.375854  128.391068  12.472813  63.383026  -3.735512  26.996208   \n",
       "3 -430.908691  134.530640  14.693838  59.866104 -11.650968  23.415775   \n",
       "4 -417.087708  145.348679   7.123462  50.162643 -17.542011  22.157343   \n",
       "\n",
       "           6          7          8         9  ...        31        32  \\\n",
       "0 -16.671497   9.267215  -1.253794 -2.970204  ... -0.711211  3.937225   \n",
       "1 -15.225402 -10.086811 -14.587361 -7.588269  ...  7.441703  2.829896   \n",
       "2 -11.805341   4.912915  -2.963334 -4.163063  ... -0.200079  2.048320   \n",
       "3 -10.857422   1.775726  -1.164114 -4.168240  ...  0.391836  0.689333   \n",
       "4  -4.430702  -0.816537  -7.286849 -0.264768  ...  3.198484  2.261936   \n",
       "\n",
       "         33        34        35        36        37        38        39  \\\n",
       "0  0.964934  1.566782  5.738392  2.600578  4.867594  1.833079  2.628369   \n",
       "1  4.759306  4.116480  5.901830  4.481123  0.525577  1.241355  2.621771   \n",
       "2  0.998026 -0.326989  4.049694  1.339910  2.259127  0.366075  0.656739   \n",
       "3  0.742341 -0.856530  1.504890 -0.419310  3.772069  3.194642  4.069006   \n",
       "4  1.898040 -1.779070  0.567067 -2.546989  1.743609 -0.963485 -0.419872   \n",
       "\n",
       "     label  \n",
       "0      sad  \n",
       "1  fearful  \n",
       "2      sad  \n",
       "3  disgust  \n",
       "4    angry  \n",
       "\n",
       "[5 rows x 41 columns]"
      ]
     },
     "execution_count": 20,
     "metadata": {},
     "output_type": "execute_result"
    }
   ],
   "source": [
    "df = pd.DataFrame(features)\n",
    "df[\"label\"] = labels\n",
    "df.to_csv(\"features.csv\", index=False)\n",
    "\n",
    "print(\"✅ Saved features to features.csv\")\n",
    "df.head()\n"
   ]
  },
  {
   "cell_type": "code",
   "execution_count": 21,
   "metadata": {},
   "outputs": [
    {
     "data": {
      "image/png": "[encoded data removed]",
      "text/plain": [
       "<Figure size 640x480 with 1 Axes>"
      ]
     },
     "metadata": {},
     "output_type": "display_data"
    }
   ],
   "source": [
    "df[\"label\"].value_counts().plot(kind='bar', title='Emotion Class Distribution')\n",
    "plt.ylabel(\"Number of Samples\")\n",
    "plt.show()\n"
   ]
  },
  {
   "cell_type": "code",
   "execution_count": 22,
   "metadata": {},
   "outputs": [
    {
     "name": "stdout",
     "output_type": "stream",
     "text": [
      "✅ Data split into training and testing sets.\n"
     ]
    }
   ],
   "source": [
    "from sklearn.preprocessing import LabelEncoder\n",
    "\n",
    "# Encode emotion labels as integers\n",
    "le = LabelEncoder()\n",
    "df[\"encoded_label\"] = le.fit_transform(df[\"label\"])\n",
    "\n",
    "# Save label classes to use later in prediction\n",
    "import joblib\n",
    "joblib.dump(le, \"label_encoder.pkl\")\n",
    "\n",
    "# Features and targets\n",
    "X = df.drop(columns=[\"label\", \"encoded_label\"]).values\n",
    "y = df[\"encoded_label\"].values\n",
    "\n",
    "# Train-test split\n",
    "X_train, X_test, y_train, y_test = train_test_split(\n",
    "    X, y, test_size=0.2, stratify=y, random_state=42\n",
    ")\n",
    "\n",
    "print(\"✅ Data split into training and testing sets.\")\n"
   ]
  },
  {
   "cell_type": "code",
   "execution_count": 23,
   "metadata": {},
   "outputs": [
    {
     "name": "stdout",
     "output_type": "stream",
     "text": [
      "✅ Accuracy: 0.6620952380952381\n",
      "\n",
      "Classification Report:\n",
      "               precision    recall  f1-score   support\n",
      "\n",
      "           0       0.68      0.82      0.75       411\n",
      "           1       0.87      1.00      0.93        77\n",
      "           2       0.63      0.53      0.58       411\n",
      "           3       1.00      1.00      1.00        80\n",
      "           4       0.58      0.39      0.47       331\n",
      "           5       0.57      0.54      0.55       411\n",
      "           6       0.57      0.65      0.61       336\n",
      "           7       0.67      0.74      0.70       411\n",
      "           8       1.00      1.00      1.00        40\n",
      "           9       0.93      0.95      0.94       117\n",
      "\n",
      "    accuracy                           0.66      2625\n",
      "   macro avg       0.75      0.76      0.75      2625\n",
      "weighted avg       0.66      0.66      0.65      2625\n",
      "\n"
     ]
    }
   ],
   "source": [
    "from sklearn.ensemble import RandomForestClassifier\n",
    "from sklearn.metrics import classification_report, accuracy_score\n",
    "\n",
    "model = RandomForestClassifier(n_estimators=200, random_state=42)\n",
    "model.fit(X_train, y_train)\n",
    "\n",
    "y_pred = model.predict(X_test)\n",
    "print(\"✅ Accuracy:\", accuracy_score(y_test, y_pred))\n",
    "print(\"\\nClassification Report:\\n\", classification_report(y_test, y_pred))\n"
   ]
  },
  {
   "cell_type": "code",
   "execution_count": 24,
   "metadata": {},
   "outputs": [
    {
     "name": "stdout",
     "output_type": "stream",
     "text": [
      "✅ Model saved as emotion_model.pkl\n"
     ]
    }
   ],
   "source": [
    "import joblib\n",
    "joblib.dump(model, \"emotion_model.pkl\")\n",
    "print(\"✅ Model saved as emotion_model.pkl\")\n"
   ]
  }
 ],
 "metadata": {
  "kernelspec": {
   "display_name": "Python 3",
   "language": "python",
   "name": "python3"
  },
  "language_info": {
   "codemirror_mode": {
    "name": "ipython",
    "version": 3
   },
   "file_extension": ".py",
   "mimetype": "text/x-python",
   "name": "python",
   "nbconvert_exporter": "python",
   "pygments_lexer": "ipython3",
   "version": "3.11.9"
  },
  "orig_nbformat": 4
 },
 "nbformat": 4,
 "nbformat_minor": 2
}
